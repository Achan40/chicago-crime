{
 "metadata": {
  "language_info": {
   "codemirror_mode": {
    "name": "ipython",
    "version": 3
   },
   "file_extension": ".py",
   "mimetype": "text/x-python",
   "name": "python",
   "nbconvert_exporter": "python",
   "pygments_lexer": "ipython3",
   "version": "3.9.1"
  },
  "orig_nbformat": 4,
  "kernelspec": {
   "name": "python3",
   "display_name": "Python 3.9.1 64-bit ('datascienceEnv': conda)"
  },
  "interpreter": {
   "hash": "bf859958d4dbb947d51f8886caa9f6b07ccbc938584eaeb6f97fd820103fc42c"
  }
 },
 "nbformat": 4,
 "nbformat_minor": 2,
 "cells": [
  {
   "cell_type": "code",
   "execution_count": 4,
   "metadata": {},
   "outputs": [],
   "source": [
    "import requests\n",
    "import json\n",
    "import pandas as pd\n",
    "\n",
    "# Load APP_TOKEN vairable from keys file\n",
    "from secret import APP_TOKEN"
   ]
  },
  {
   "source": [
    "# Table of contents\n",
    "* [Overview](#Overview)\n",
    "* [Data](#Data)\n",
    "* [Model](#Model)\n",
    "* [Results](#Results)\n",
    "* [Conclusion](#Conclusion)"
   ],
   "cell_type": "markdown",
   "metadata": {}
  },
  {
   "source": [
    "## Overview <a name=\"Overview\"></a>\n",
    "\n"
   ],
   "cell_type": "markdown",
   "metadata": {}
  },
  {
   "source": [
    "## Data <a name=\"Data\"></a>"
   ],
   "cell_type": "markdown",
   "metadata": {}
  },
  {
   "cell_type": "code",
   "execution_count": 30,
   "metadata": {},
   "outputs": [
    {
     "output_type": "execute_result",
     "data": {
      "text/plain": [
       "                         date community_area\n",
       "0     2021-01-03T13:23:00.000             68\n",
       "1     2021-01-03T06:59:00.000             44\n",
       "2     2021-01-03T00:20:00.000             25\n",
       "3     2021-01-03T20:47:00.000             67\n",
       "4     2021-01-03T20:09:00.000             43\n",
       "...                       ...            ...\n",
       "9995  2021-01-21T12:30:00.000              6\n",
       "9996  2021-01-21T12:42:00.000             28\n",
       "9997  2021-01-21T22:00:00.000             43\n",
       "9998  2021-01-21T13:45:00.000             10\n",
       "9999  2021-01-21T13:15:00.000              6\n",
       "\n",
       "[10000 rows x 2 columns]"
      ],
      "text/html": "<div>\n<style scoped>\n    .dataframe tbody tr th:only-of-type {\n        vertical-align: middle;\n    }\n\n    .dataframe tbody tr th {\n        vertical-align: top;\n    }\n\n    .dataframe thead th {\n        text-align: right;\n    }\n</style>\n<table border=\"1\" class=\"dataframe\">\n  <thead>\n    <tr style=\"text-align: right;\">\n      <th></th>\n      <th>date</th>\n      <th>community_area</th>\n    </tr>\n  </thead>\n  <tbody>\n    <tr>\n      <th>0</th>\n      <td>2021-01-03T13:23:00.000</td>\n      <td>68</td>\n    </tr>\n    <tr>\n      <th>1</th>\n      <td>2021-01-03T06:59:00.000</td>\n      <td>44</td>\n    </tr>\n    <tr>\n      <th>2</th>\n      <td>2021-01-03T00:20:00.000</td>\n      <td>25</td>\n    </tr>\n    <tr>\n      <th>3</th>\n      <td>2021-01-03T20:47:00.000</td>\n      <td>67</td>\n    </tr>\n    <tr>\n      <th>4</th>\n      <td>2021-01-03T20:09:00.000</td>\n      <td>43</td>\n    </tr>\n    <tr>\n      <th>...</th>\n      <td>...</td>\n      <td>...</td>\n    </tr>\n    <tr>\n      <th>9995</th>\n      <td>2021-01-21T12:30:00.000</td>\n      <td>6</td>\n    </tr>\n    <tr>\n      <th>9996</th>\n      <td>2021-01-21T12:42:00.000</td>\n      <td>28</td>\n    </tr>\n    <tr>\n      <th>9997</th>\n      <td>2021-01-21T22:00:00.000</td>\n      <td>43</td>\n    </tr>\n    <tr>\n      <th>9998</th>\n      <td>2021-01-21T13:45:00.000</td>\n      <td>10</td>\n    </tr>\n    <tr>\n      <th>9999</th>\n      <td>2021-01-21T13:15:00.000</td>\n      <td>6</td>\n    </tr>\n  </tbody>\n</table>\n<p>10000 rows × 2 columns</p>\n</div>"
     },
     "metadata": {},
     "execution_count": 30
    }
   ],
   "source": [
    "#\n",
    "url = \"https://data.cityofchicago.org/resource/ijzp-q8t2.json?$select=date,community_area&$where=year==2021&$limit=10000\"\n",
    "headers = {'Accept': 'application/json', 'X-App-Token': APP_TOKEN}\n",
    "resp = requests.get(url,headers=headers)\n",
    "test = json.loads(resp.text)\n",
    "test2 = pd.DataFrame(test)\n",
    "test2"
   ]
  },
  {
   "source": [
    "## Model <a name=\"Model\"></a>"
   ],
   "cell_type": "markdown",
   "metadata": {}
  },
  {
   "source": [
    "\n",
    "## Results <a name=\"Results\"></a>"
   ],
   "cell_type": "markdown",
   "metadata": {}
  },
  {
   "source": [
    "## Conclusion <a name=\"Conclusion\"></a>\n"
   ],
   "cell_type": "markdown",
   "metadata": {}
  },
  {
   "cell_type": "code",
   "execution_count": null,
   "metadata": {},
   "outputs": [],
   "source": []
  }
 ]
}