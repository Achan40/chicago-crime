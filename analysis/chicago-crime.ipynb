{
 "metadata": {
  "language_info": {
   "codemirror_mode": {
    "name": "ipython",
    "version": 3
   },
   "file_extension": ".py",
   "mimetype": "text/x-python",
   "name": "python",
   "nbconvert_exporter": "python",
   "pygments_lexer": "ipython3",
   "version": "3.9.1"
  },
  "orig_nbformat": 4,
  "kernelspec": {
   "name": "python3",
   "display_name": "Python 3.9.1 64-bit ('datascienceEnv': conda)"
  },
  "interpreter": {
   "hash": "bf859958d4dbb947d51f8886caa9f6b07ccbc938584eaeb6f97fd820103fc42c"
  }
 },
 "nbformat": 4,
 "nbformat_minor": 2,
 "cells": [
  {
   "cell_type": "code",
   "execution_count": 2,
   "metadata": {},
   "outputs": [],
   "source": [
    "import requests\n",
    "import json\n",
    "import pandas as pd\n",
    "\n",
    "# Load APP_TOKEN vairable from keys file\n",
    "from secret import APP_TOKEN"
   ]
  },
  {
   "source": [
    "# Table of contents\n",
    "* [Overview](#Overview)\n",
    "* [Data](#Data)\n",
    "* [Model](#Model)\n",
    "* [Results](#Results)\n",
    "* [Conclusion](#Conclusion)"
   ],
   "cell_type": "markdown",
   "metadata": {}
  },
  {
   "source": [
    "## Overview\n",
    "\n",
    "The purpose of this project is to create a model to predict the number of crimes that might occur in some chicago neighborhood on any given day. We will be using the Chicago Crimes Dataset, limiting ourselves to the date and community area fields from this set of data. We'll also be using unemployment data from the Chicago land area to determine if the unemployment rate has any effect on the amount of crime in Chicago.\n"
   ],
   "cell_type": "markdown",
   "metadata": {}
  },
  {
   "source": [
    "## Data <a name=\"Data\"></a>"
   ],
   "cell_type": "markdown",
   "metadata": {}
  },
  {
   "cell_type": "code",
   "execution_count": 5,
   "metadata": {},
   "outputs": [
    {
     "output_type": "execute_result",
     "data": {
      "text/plain": [
       "                          date community_area\n",
       "0      2021-01-01T00:00:00.000              3\n",
       "1      2021-01-01T00:00:00.000             26\n",
       "2      2021-01-01T00:00:00.000             39\n",
       "3      2021-01-01T00:00:00.000             70\n",
       "4      2021-01-01T00:00:00.000             27\n",
       "...                        ...            ...\n",
       "81521  2021-06-09T23:47:00.000             69\n",
       "81522  2021-06-09T23:50:00.000             66\n",
       "81523  2021-06-09T23:50:00.000             59\n",
       "81524  2021-06-09T23:52:00.000              8\n",
       "81525  2021-06-09T23:57:00.000             27\n",
       "\n",
       "[81526 rows x 2 columns]"
      ],
      "text/html": "<div>\n<style scoped>\n    .dataframe tbody tr th:only-of-type {\n        vertical-align: middle;\n    }\n\n    .dataframe tbody tr th {\n        vertical-align: top;\n    }\n\n    .dataframe thead th {\n        text-align: right;\n    }\n</style>\n<table border=\"1\" class=\"dataframe\">\n  <thead>\n    <tr style=\"text-align: right;\">\n      <th></th>\n      <th>date</th>\n      <th>community_area</th>\n    </tr>\n  </thead>\n  <tbody>\n    <tr>\n      <th>0</th>\n      <td>2021-01-01T00:00:00.000</td>\n      <td>3</td>\n    </tr>\n    <tr>\n      <th>1</th>\n      <td>2021-01-01T00:00:00.000</td>\n      <td>26</td>\n    </tr>\n    <tr>\n      <th>2</th>\n      <td>2021-01-01T00:00:00.000</td>\n      <td>39</td>\n    </tr>\n    <tr>\n      <th>3</th>\n      <td>2021-01-01T00:00:00.000</td>\n      <td>70</td>\n    </tr>\n    <tr>\n      <th>4</th>\n      <td>2021-01-01T00:00:00.000</td>\n      <td>27</td>\n    </tr>\n    <tr>\n      <th>...</th>\n      <td>...</td>\n      <td>...</td>\n    </tr>\n    <tr>\n      <th>81521</th>\n      <td>2021-06-09T23:47:00.000</td>\n      <td>69</td>\n    </tr>\n    <tr>\n      <th>81522</th>\n      <td>2021-06-09T23:50:00.000</td>\n      <td>66</td>\n    </tr>\n    <tr>\n      <th>81523</th>\n      <td>2021-06-09T23:50:00.000</td>\n      <td>59</td>\n    </tr>\n    <tr>\n      <th>81524</th>\n      <td>2021-06-09T23:52:00.000</td>\n      <td>8</td>\n    </tr>\n    <tr>\n      <th>81525</th>\n      <td>2021-06-09T23:57:00.000</td>\n      <td>27</td>\n    </tr>\n  </tbody>\n</table>\n<p>81526 rows × 2 columns</p>\n</div>"
     },
     "metadata": {},
     "execution_count": 5
    }
   ],
   "source": [
    "url = \"https://data.cityofchicago.org/resource/ijzp-q8t2.json?$select=date,community_area&$where=year==2021&$order=date ASC&$limit=100000\"\n",
    "headers = {'Accept': 'application/json', 'X-App-Token': APP_TOKEN}\n",
    "resp = requests.get(url,headers=headers)\n",
    "df = json.loads(resp.text)\n",
    "df = pd.DataFrame(df)\n",
    "df"
   ]
  },
  {
   "source": [
    "## Model <a name=\"Model\"></a>"
   ],
   "cell_type": "markdown",
   "metadata": {}
  },
  {
   "source": [
    "\n",
    "## Results <a name=\"Results\"></a>"
   ],
   "cell_type": "markdown",
   "metadata": {}
  },
  {
   "source": [
    "## Conclusion <a name=\"Conclusion\"></a>\n"
   ],
   "cell_type": "markdown",
   "metadata": {}
  },
  {
   "cell_type": "code",
   "execution_count": null,
   "metadata": {},
   "outputs": [],
   "source": []
  }
 ]
}